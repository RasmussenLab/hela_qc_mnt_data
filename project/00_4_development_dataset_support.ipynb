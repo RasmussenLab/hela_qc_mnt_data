{
 "cells": [
  {
   "cell_type": "markdown",
   "id": "23fc14dd",
   "metadata": {},
   "source": [
    "# Support of dumped data"
   ]
  },
  {
   "cell_type": "code",
   "execution_count": null,
   "id": "d110b8af",
   "metadata": {},
   "outputs": [],
   "source": [
    "import numpy as np\n",
    "import pandas as pd\n",
    "import plotly.express as px\n",
    "\n",
    "import hela_data  # set formatting defaults"
   ]
  },
  {
   "cell_type": "markdown",
   "id": "9086a42c",
   "metadata": {},
   "source": [
    "## Parameters"
   ]
  },
  {
   "cell_type": "code",
   "execution_count": null,
   "id": "957aedbc",
   "metadata": {
    "tags": [
     "parameters"
    ]
   },
   "outputs": [],
   "source": [
    "# Path to json support file\n",
    "support_json: str = 'data/dev_datasets/df_intensities_proteinGroups_long/Q_Exactive_HF_X_Orbitrap_6070_support.json'"
   ]
  },
  {
   "cell_type": "markdown",
   "id": "dd469924",
   "metadata": {},
   "source": [
    "## Completeness of samples"
   ]
  },
  {
   "cell_type": "code",
   "execution_count": null,
   "id": "0dc4c5b0",
   "metadata": {},
   "outputs": [],
   "source": [
    "support = pd.read_json(support_json, typ='series').sort_values().to_frame('no. of features')\n",
    "support.head()"
   ]
  },
  {
   "cell_type": "code",
   "execution_count": null,
   "id": "2ce79a82",
   "metadata": {},
   "outputs": [],
   "source": [
    "support.describe(percentiles=np.linspace(0.1, 1, 10))"
   ]
  },
  {
   "cell_type": "code",
   "execution_count": null,
   "id": "278fd2a5",
   "metadata": {},
   "outputs": [],
   "source": [
    "ax = support.plot(rot=90, figsize=(20, 10), legend=False)\n",
    "ax.set_ylabel('number of features')\n",
    "ax.yaxis.set_major_formatter(\"{x:,.0f}\")"
   ]
  },
  {
   "cell_type": "code",
   "execution_count": null,
   "id": "134dea90",
   "metadata": {},
   "outputs": [],
   "source": [
    "px.line(support, height=1000)"
   ]
  },
  {
   "cell_type": "markdown",
   "id": "4c35bea5",
   "metadata": {},
   "source": [
    "The one with very few identification are mainly fractions of entire samples"
   ]
  }
 ],
 "metadata": {
  "kernelspec": {
   "display_name": "hela_data",
   "language": "python",
   "name": "python3"
  }
 },
 "nbformat": 4,
 "nbformat_minor": 5
}
